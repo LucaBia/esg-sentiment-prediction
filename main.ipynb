{
 "cells": [
  {
   "cell_type": "code",
   "execution_count": 1,
   "metadata": {},
   "outputs": [],
   "source": [
    "import pandas as pd"
   ]
  },
  {
   "cell_type": "code",
   "execution_count": 2,
   "metadata": {},
   "outputs": [
    {
     "name": "stderr",
     "output_type": "stream",
     "text": [
      "/var/folders/zt/nyys066105lblq7tgvfcr7bw0000gq/T/ipykernel_68385/3261319258.py:3: DtypeWarning: Columns (2,4,5,6) have mixed types. Specify dtype option on import or set low_memory=False.\n",
      "  news_data = pd.read_csv(file_path)\n"
     ]
    }
   ],
   "source": [
    "# Load news CSV file\n",
    "file_path = 'news.csv'\n",
    "news_data = pd.read_csv(file_path)"
   ]
  },
  {
   "cell_type": "code",
   "execution_count": 3,
   "metadata": {},
   "outputs": [
    {
     "data": {
      "text/html": [
       "<div>\n",
       "<style scoped>\n",
       "    .dataframe tbody tr th:only-of-type {\n",
       "        vertical-align: middle;\n",
       "    }\n",
       "\n",
       "    .dataframe tbody tr th {\n",
       "        vertical-align: top;\n",
       "    }\n",
       "\n",
       "    .dataframe thead th {\n",
       "        text-align: right;\n",
       "    }\n",
       "</style>\n",
       "<table border=\"1\" class=\"dataframe\">\n",
       "  <thead>\n",
       "    <tr style=\"text-align: right;\">\n",
       "      <th></th>\n",
       "      <th>Date</th>\n",
       "      <th>Article_title</th>\n",
       "      <th>Stock_symbol</th>\n",
       "      <th>Url</th>\n",
       "      <th>Publisher</th>\n",
       "      <th>Author</th>\n",
       "      <th>Article</th>\n",
       "      <th>Lsa_summary</th>\n",
       "      <th>Luhn_summary</th>\n",
       "      <th>Textrank_summary</th>\n",
       "      <th>Lexrank_summary</th>\n",
       "    </tr>\n",
       "  </thead>\n",
       "  <tbody>\n",
       "    <tr>\n",
       "      <th>0</th>\n",
       "      <td>2020-06-05 06:30:54 UTC</td>\n",
       "      <td>Stocks That Hit 52-Week Highs On Friday</td>\n",
       "      <td>A</td>\n",
       "      <td>https://www.benzinga.com/news/20/06/16190091/s...</td>\n",
       "      <td>Benzinga Insights</td>\n",
       "      <td>NaN</td>\n",
       "      <td>NaN</td>\n",
       "      <td>NaN</td>\n",
       "      <td>NaN</td>\n",
       "      <td>NaN</td>\n",
       "      <td>NaN</td>\n",
       "    </tr>\n",
       "    <tr>\n",
       "      <th>1</th>\n",
       "      <td>2020-06-03 06:45:20 UTC</td>\n",
       "      <td>Stocks That Hit 52-Week Highs On Wednesday</td>\n",
       "      <td>A</td>\n",
       "      <td>https://www.benzinga.com/news/20/06/16170189/s...</td>\n",
       "      <td>Benzinga Insights</td>\n",
       "      <td>NaN</td>\n",
       "      <td>NaN</td>\n",
       "      <td>NaN</td>\n",
       "      <td>NaN</td>\n",
       "      <td>NaN</td>\n",
       "      <td>NaN</td>\n",
       "    </tr>\n",
       "    <tr>\n",
       "      <th>2</th>\n",
       "      <td>2020-05-26 00:30:07 UTC</td>\n",
       "      <td>71 Biggest Movers From Friday</td>\n",
       "      <td>A</td>\n",
       "      <td>https://www.benzinga.com/news/20/05/16103463/7...</td>\n",
       "      <td>Lisa Levin</td>\n",
       "      <td>NaN</td>\n",
       "      <td>NaN</td>\n",
       "      <td>NaN</td>\n",
       "      <td>NaN</td>\n",
       "      <td>NaN</td>\n",
       "      <td>NaN</td>\n",
       "    </tr>\n",
       "    <tr>\n",
       "      <th>3</th>\n",
       "      <td>2020-05-22 08:45:06 UTC</td>\n",
       "      <td>46 Stocks Moving In Friday's Mid-Day Session</td>\n",
       "      <td>A</td>\n",
       "      <td>https://www.benzinga.com/news/20/05/16095921/4...</td>\n",
       "      <td>Lisa Levin</td>\n",
       "      <td>NaN</td>\n",
       "      <td>NaN</td>\n",
       "      <td>NaN</td>\n",
       "      <td>NaN</td>\n",
       "      <td>NaN</td>\n",
       "      <td>NaN</td>\n",
       "    </tr>\n",
       "    <tr>\n",
       "      <th>4</th>\n",
       "      <td>2020-05-22 07:38:59 UTC</td>\n",
       "      <td>B of A Securities Maintains Neutral on Agilent...</td>\n",
       "      <td>A</td>\n",
       "      <td>https://www.benzinga.com/news/20/05/16095304/b...</td>\n",
       "      <td>Vick Meyer</td>\n",
       "      <td>NaN</td>\n",
       "      <td>NaN</td>\n",
       "      <td>NaN</td>\n",
       "      <td>NaN</td>\n",
       "      <td>NaN</td>\n",
       "      <td>NaN</td>\n",
       "    </tr>\n",
       "  </tbody>\n",
       "</table>\n",
       "</div>"
      ],
      "text/plain": [
       "                      Date                                      Article_title  \\\n",
       "0  2020-06-05 06:30:54 UTC            Stocks That Hit 52-Week Highs On Friday   \n",
       "1  2020-06-03 06:45:20 UTC         Stocks That Hit 52-Week Highs On Wednesday   \n",
       "2  2020-05-26 00:30:07 UTC                      71 Biggest Movers From Friday   \n",
       "3  2020-05-22 08:45:06 UTC       46 Stocks Moving In Friday's Mid-Day Session   \n",
       "4  2020-05-22 07:38:59 UTC  B of A Securities Maintains Neutral on Agilent...   \n",
       "\n",
       "  Stock_symbol                                                Url  \\\n",
       "0            A  https://www.benzinga.com/news/20/06/16190091/s...   \n",
       "1            A  https://www.benzinga.com/news/20/06/16170189/s...   \n",
       "2            A  https://www.benzinga.com/news/20/05/16103463/7...   \n",
       "3            A  https://www.benzinga.com/news/20/05/16095921/4...   \n",
       "4            A  https://www.benzinga.com/news/20/05/16095304/b...   \n",
       "\n",
       "           Publisher Author Article  Lsa_summary  Luhn_summary  \\\n",
       "0  Benzinga Insights    NaN     NaN          NaN           NaN   \n",
       "1  Benzinga Insights    NaN     NaN          NaN           NaN   \n",
       "2         Lisa Levin    NaN     NaN          NaN           NaN   \n",
       "3         Lisa Levin    NaN     NaN          NaN           NaN   \n",
       "4         Vick Meyer    NaN     NaN          NaN           NaN   \n",
       "\n",
       "   Textrank_summary  Lexrank_summary  \n",
       "0               NaN              NaN  \n",
       "1               NaN              NaN  \n",
       "2               NaN              NaN  \n",
       "3               NaN              NaN  \n",
       "4               NaN              NaN  "
      ]
     },
     "execution_count": 3,
     "metadata": {},
     "output_type": "execute_result"
    }
   ],
   "source": [
    "# Initial inspection: show the first few rows of the dataset\n",
    "news_data.head()"
   ]
  },
  {
   "cell_type": "code",
   "execution_count": 4,
   "metadata": {},
   "outputs": [
    {
     "name": "stdout",
     "output_type": "stream",
     "text": [
      "\n",
      "Dataset dimensions:  (13057514, 11)\n"
     ]
    }
   ],
   "source": [
    "# Dataset dimensions\n",
    "print(\"\\nDataset dimensions: \", news_data.shape)"
   ]
  },
  {
   "cell_type": "code",
   "execution_count": 5,
   "metadata": {},
   "outputs": [
    {
     "name": "stdout",
     "output_type": "stream",
     "text": [
      "\n",
      "Data types for each column:  Date                 object\n",
      "Article_title        object\n",
      "Stock_symbol         object\n",
      "Url                  object\n",
      "Publisher            object\n",
      "Author               object\n",
      "Article              object\n",
      "Lsa_summary         float64\n",
      "Luhn_summary        float64\n",
      "Textrank_summary    float64\n",
      "Lexrank_summary     float64\n",
      "dtype: object\n"
     ]
    }
   ],
   "source": [
    "# Data types of each column\n",
    "print(\"\\nData types for each column: \", news_data.dtypes)"
   ]
  },
  {
   "cell_type": "code",
   "execution_count": 6,
   "metadata": {},
   "outputs": [
    {
     "name": "stdout",
     "output_type": "stream",
     "text": [
      "Missing values in each column:\n",
      "------------------------------\n",
      "Date                       0\n",
      "Article_title              1\n",
      "Stock_symbol         9804627\n",
      "Url                      686\n",
      "Publisher            9030871\n",
      "Author              11871199\n",
      "Article             11809202\n",
      "Lsa_summary         13057514\n",
      "Luhn_summary        13057514\n",
      "Textrank_summary    13057514\n",
      "Lexrank_summary     13057514\n",
      "dtype: int64\n"
     ]
    }
   ],
   "source": [
    "# Check for missing values\n",
    "print(\"Missing values in each column:\")\n",
    "print(\"-\"*30)\n",
    "print(news_data.isnull().sum())"
   ]
  },
  {
   "cell_type": "code",
   "execution_count": 7,
   "metadata": {},
   "outputs": [
    {
     "name": "stdout",
     "output_type": "stream",
     "text": [
      "Descriptive statistics for numeric columns:\n",
      "       Lsa_summary  Luhn_summary  Textrank_summary  Lexrank_summary\n",
      "count          0.0           0.0               0.0              0.0\n",
      "mean           NaN           NaN               NaN              NaN\n",
      "std            NaN           NaN               NaN              NaN\n",
      "min            NaN           NaN               NaN              NaN\n",
      "25%            NaN           NaN               NaN              NaN\n",
      "50%            NaN           NaN               NaN              NaN\n",
      "75%            NaN           NaN               NaN              NaN\n",
      "max            NaN           NaN               NaN              NaN\n"
     ]
    }
   ],
   "source": [
    "# Descriptive statistics for numeric columns\n",
    "print(\"Descriptive statistics for numeric columns:\")\n",
    "print(news_data.describe())"
   ]
  },
  {
   "cell_type": "markdown",
   "metadata": {},
   "source": [
    "___"
   ]
  },
  {
   "cell_type": "code",
   "execution_count": 8,
   "metadata": {},
   "outputs": [],
   "source": [
    "# Rimuovere le colonne vuote e inutili\n",
    "news_data_cleaned = news_data.drop(columns=['Lsa_summary', 'Luhn_summary', 'Textrank_summary', 'Lexrank_summary'])"
   ]
  },
  {
   "cell_type": "code",
   "execution_count": 9,
   "metadata": {},
   "outputs": [],
   "source": [
    "# Rimuovere le righe con valori mancanti nelle colonne chiave (Stock_symbol e Article_title)\n",
    "news_data_cleaned = news_data_cleaned.dropna(subset=['Stock_symbol', 'Article_title'])"
   ]
  },
  {
   "cell_type": "code",
   "execution_count": 10,
   "metadata": {},
   "outputs": [
    {
     "name": "stdout",
     "output_type": "stream",
     "text": [
      "Dataset cleaned dimensions: (3252887, 7)\n"
     ]
    }
   ],
   "source": [
    "# Mostrare una sintesi del dataset pulito\n",
    "print(\"Dataset cleaned dimensions:\", news_data_cleaned.shape)"
   ]
  },
  {
   "cell_type": "code",
   "execution_count": 11,
   "metadata": {},
   "outputs": [
    {
     "name": "stdout",
     "output_type": "stream",
     "text": [
      "Missing values in each column after cleaning:\n",
      "Date                   0\n",
      "Article_title          0\n",
      "Stock_symbol           0\n",
      "Url                    0\n",
      "Publisher              0\n",
      "Author           3252887\n",
      "Article          3252887\n",
      "dtype: int64\n"
     ]
    }
   ],
   "source": [
    "# Verifica dei dati mancanti dopo la pulizia\n",
    "print(\"Missing values in each column after cleaning:\")\n",
    "print(news_data_cleaned.isnull().sum())"
   ]
  },
  {
   "cell_type": "code",
   "execution_count": 12,
   "metadata": {},
   "outputs": [],
   "source": [
    "# Ridurre il dataset alle sole colonne di interesse\n",
    "news_data_reduced = news_data_cleaned[['Date', 'Stock_symbol', 'Article_title']]"
   ]
  },
  {
   "cell_type": "code",
   "execution_count": 13,
   "metadata": {},
   "outputs": [
    {
     "data": {
      "text/html": [
       "<div>\n",
       "<style scoped>\n",
       "    .dataframe tbody tr th:only-of-type {\n",
       "        vertical-align: middle;\n",
       "    }\n",
       "\n",
       "    .dataframe tbody tr th {\n",
       "        vertical-align: top;\n",
       "    }\n",
       "\n",
       "    .dataframe thead th {\n",
       "        text-align: right;\n",
       "    }\n",
       "</style>\n",
       "<table border=\"1\" class=\"dataframe\">\n",
       "  <thead>\n",
       "    <tr style=\"text-align: right;\">\n",
       "      <th></th>\n",
       "      <th>Date</th>\n",
       "      <th>Stock_symbol</th>\n",
       "      <th>Article_title</th>\n",
       "    </tr>\n",
       "  </thead>\n",
       "  <tbody>\n",
       "    <tr>\n",
       "      <th>0</th>\n",
       "      <td>2020-06-05 06:30:54 UTC</td>\n",
       "      <td>A</td>\n",
       "      <td>Stocks That Hit 52-Week Highs On Friday</td>\n",
       "    </tr>\n",
       "    <tr>\n",
       "      <th>1</th>\n",
       "      <td>2020-06-03 06:45:20 UTC</td>\n",
       "      <td>A</td>\n",
       "      <td>Stocks That Hit 52-Week Highs On Wednesday</td>\n",
       "    </tr>\n",
       "    <tr>\n",
       "      <th>2</th>\n",
       "      <td>2020-05-26 00:30:07 UTC</td>\n",
       "      <td>A</td>\n",
       "      <td>71 Biggest Movers From Friday</td>\n",
       "    </tr>\n",
       "    <tr>\n",
       "      <th>3</th>\n",
       "      <td>2020-05-22 08:45:06 UTC</td>\n",
       "      <td>A</td>\n",
       "      <td>46 Stocks Moving In Friday's Mid-Day Session</td>\n",
       "    </tr>\n",
       "    <tr>\n",
       "      <th>4</th>\n",
       "      <td>2020-05-22 07:38:59 UTC</td>\n",
       "      <td>A</td>\n",
       "      <td>B of A Securities Maintains Neutral on Agilent...</td>\n",
       "    </tr>\n",
       "  </tbody>\n",
       "</table>\n",
       "</div>"
      ],
      "text/plain": [
       "                      Date Stock_symbol  \\\n",
       "0  2020-06-05 06:30:54 UTC            A   \n",
       "1  2020-06-03 06:45:20 UTC            A   \n",
       "2  2020-05-26 00:30:07 UTC            A   \n",
       "3  2020-05-22 08:45:06 UTC            A   \n",
       "4  2020-05-22 07:38:59 UTC            A   \n",
       "\n",
       "                                       Article_title  \n",
       "0            Stocks That Hit 52-Week Highs On Friday  \n",
       "1         Stocks That Hit 52-Week Highs On Wednesday  \n",
       "2                      71 Biggest Movers From Friday  \n",
       "3       46 Stocks Moving In Friday's Mid-Day Session  \n",
       "4  B of A Securities Maintains Neutral on Agilent...  "
      ]
     },
     "execution_count": 13,
     "metadata": {},
     "output_type": "execute_result"
    }
   ],
   "source": [
    "news_data_reduced.head()"
   ]
  },
  {
   "cell_type": "code",
   "execution_count": 14,
   "metadata": {},
   "outputs": [
    {
     "name": "stdout",
     "output_type": "stream",
     "text": [
      "Reduced dataset dimensions: (3252887, 3)\n"
     ]
    }
   ],
   "source": [
    "print(\"Reduced dataset dimensions:\", news_data_reduced.shape)"
   ]
  },
  {
   "cell_type": "markdown",
   "metadata": {},
   "source": [
    "### Distribuzione Temporale delle Notizie"
   ]
  },
  {
   "cell_type": "code",
   "execution_count": 19,
   "metadata": {},
   "outputs": [],
   "source": [
    "# Convertire la colonna 'Date' in formato datetime per una corretta analisi temporale\n",
    "news_data_reduced.loc[:, 'Date'] = pd.to_datetime(news_data_reduced['Date'], errors='coerce')\n",
    "# news_data_reduced['Date'] = pd.to_datetime(news_data_reduced['Date'], errors='coerce')"
   ]
  },
  {
   "cell_type": "code",
   "execution_count": 23,
   "metadata": {},
   "outputs": [
    {
     "data": {
      "text/plain": [
       "Date\n",
       "1969         1\n",
       "2009     11489\n",
       "2010     94198\n",
       "2011    177982\n",
       "2012    234050\n",
       "2013    212044\n",
       "2014    245022\n",
       "2015    417215\n",
       "2016    374937\n",
       "2017    285913\n",
       "2018    479525\n",
       "2019    518954\n",
       "2020    201557\n",
       "Name: count, dtype: int64"
      ]
     },
     "execution_count": 23,
     "metadata": {},
     "output_type": "execute_result"
    }
   ],
   "source": [
    "# Distribuzione temporale delle notizie per anno\n",
    "news_by_year = news_data_reduced['Date'].dt.year.value_counts().sort_index()\n",
    "news_by_year"
   ]
  },
  {
   "cell_type": "markdown",
   "metadata": {},
   "source": [
    "- Il dataset copre principalmente il periodo dal 2009 al 2020, con un picco di notizie tra il 2015 e il 2019. L’anno 2020 ha significativamente meno notizie, probabilmente perché il dataset è incompleto per quell’anno.\n",
    "- Ci sono pochissime notizie nel 1969, che sembra essere un’anomalia."
   ]
  },
  {
   "cell_type": "markdown",
   "metadata": {},
   "source": [
    "### Distribuzione per Azienda"
   ]
  },
  {
   "cell_type": "code",
   "execution_count": 24,
   "metadata": {},
   "outputs": [
    {
     "data": {
      "text/plain": [
       "Stock_symbol\n",
       "KR      5127\n",
       "GILD    4974\n",
       "DISH    4624\n",
       "EWJ     4526\n",
       "MDT     4476\n",
       "HD      4453\n",
       "MYL     4446\n",
       "JWN     4432\n",
       "FDX     4399\n",
       "FCAU    4334\n",
       "FCX     4296\n",
       "WDC     4219\n",
       "GRPN    4192\n",
       "AVGO    4149\n",
       "VMW     4104\n",
       "TWX     4099\n",
       "SLV     4012\n",
       "CSX     4007\n",
       "BLK     3989\n",
       "EA      3938\n",
       "Name: count, dtype: int64"
      ]
     },
     "execution_count": 24,
     "metadata": {},
     "output_type": "execute_result"
    }
   ],
   "source": [
    "# Distribuzione delle notizie per azienda (Stock_symbol)\n",
    "news_by_symbol = news_data_reduced['Stock_symbol'].value_counts().head(20)  # Mostra i primi 20 ticker con più notizie\n",
    "news_by_symbol"
   ]
  },
  {
   "cell_type": "markdown",
   "metadata": {},
   "source": [
    "### Dataset 2013-2019"
   ]
  },
  {
   "cell_type": "code",
   "execution_count": 25,
   "metadata": {},
   "outputs": [],
   "source": [
    "# Limitare il dataset al periodo 2015-2019\n",
    "news_data_reduced = news_data_reduced[(news_data_reduced['Date'].dt.year >= 2015) & (news_data_reduced['Date'].dt.year <= 2019)]"
   ]
  },
  {
   "cell_type": "code",
   "execution_count": 26,
   "metadata": {},
   "outputs": [
    {
     "name": "stdout",
     "output_type": "stream",
     "text": [
      "Dimensions of the dataset after limiting to 2015-2019:  (2076544, 3)\n"
     ]
    }
   ],
   "source": [
    "print(\"Dimensions of the dataset after limiting to 2015-2019: \", news_data_reduced.shape)"
   ]
  },
  {
   "cell_type": "markdown",
   "metadata": {},
   "source": [
    "__"
   ]
  },
  {
   "cell_type": "code",
   "execution_count": 27,
   "metadata": {},
   "outputs": [],
   "source": [
    "import re\n",
    "import nltk\n",
    "from nltk.corpus import stopwords\n",
    "from nltk.sentiment.vader import SentimentIntensityAnalyzer"
   ]
  },
  {
   "cell_type": "code",
   "execution_count": 28,
   "metadata": {},
   "outputs": [
    {
     "name": "stderr",
     "output_type": "stream",
     "text": [
      "[nltk_data] Downloading package stopwords to\n",
      "[nltk_data]     /Users/LucaBia/nltk_data...\n",
      "[nltk_data]   Package stopwords is already up-to-date!\n",
      "[nltk_data] Downloading package vader_lexicon to\n",
      "[nltk_data]     /Users/LucaBia/nltk_data...\n",
      "[nltk_data]   Package vader_lexicon is already up-to-date!\n"
     ]
    },
    {
     "data": {
      "text/plain": [
       "True"
      ]
     },
     "execution_count": 28,
     "metadata": {},
     "output_type": "execute_result"
    }
   ],
   "source": [
    "# Assicurarsi di avere i dati di stopwords e sentiment se non sono già installati\n",
    "nltk.download('stopwords')\n",
    "nltk.download('vader_lexicon')"
   ]
  },
  {
   "cell_type": "code",
   "execution_count": 29,
   "metadata": {},
   "outputs": [],
   "source": [
    "# Inizializza l'analizzatore di sentiment\n",
    "sia = SentimentIntensityAnalyzer()"
   ]
  },
  {
   "cell_type": "code",
   "execution_count": 30,
   "metadata": {},
   "outputs": [],
   "source": [
    "# Definire uno stopword set\n",
    "stop_words = set(stopwords.words('english'))"
   ]
  },
  {
   "cell_type": "code",
   "execution_count": 31,
   "metadata": {},
   "outputs": [],
   "source": [
    "# Funzione per pulire il testo\n",
    "def clean_text(text):\n",
    "    # Rimuovere punteggiatura e numeri\n",
    "    text = re.sub(r'[^A-Za-z\\s]', '', text)\n",
    "    # Convertire il testo a minuscolo\n",
    "    text = text.lower()\n",
    "    # Rimuovere stopwords\n",
    "    text = ' '.join(word for word in text.split() if word not in stop_words)\n",
    "    return text"
   ]
  },
  {
   "cell_type": "code",
   "execution_count": 32,
   "metadata": {},
   "outputs": [],
   "source": [
    "# Applicare la pulizia del testo ai titoli\n",
    "news_data_reduced['Cleaned_Title'] = news_data_reduced['Article_title'].apply(clean_text)\n"
   ]
  },
  {
   "cell_type": "code",
   "execution_count": 33,
   "metadata": {},
   "outputs": [],
   "source": [
    "# Funzione per calcolare il sentiment utilizzando VADER\n",
    "def get_sentiment(text):\n",
    "    score = sia.polarity_scores(text)\n",
    "    return score['compound']  # Usa il punteggio compound che va da -1 a 1"
   ]
  },
  {
   "cell_type": "code",
   "execution_count": 34,
   "metadata": {},
   "outputs": [],
   "source": [
    "# Calcolare il sentiment per ciascun titolo\n",
    "news_data_reduced['Sentiment'] = news_data_reduced['Cleaned_Title'].apply(get_sentiment)"
   ]
  },
  {
   "cell_type": "code",
   "execution_count": 35,
   "metadata": {},
   "outputs": [
    {
     "data": {
      "text/html": [
       "<div>\n",
       "<style scoped>\n",
       "    .dataframe tbody tr th:only-of-type {\n",
       "        vertical-align: middle;\n",
       "    }\n",
       "\n",
       "    .dataframe tbody tr th {\n",
       "        vertical-align: top;\n",
       "    }\n",
       "\n",
       "    .dataframe thead th {\n",
       "        text-align: right;\n",
       "    }\n",
       "</style>\n",
       "<table border=\"1\" class=\"dataframe\">\n",
       "  <thead>\n",
       "    <tr style=\"text-align: right;\">\n",
       "      <th></th>\n",
       "      <th>Article_title</th>\n",
       "      <th>Cleaned_Title</th>\n",
       "      <th>Sentiment</th>\n",
       "    </tr>\n",
       "  </thead>\n",
       "  <tbody>\n",
       "    <tr>\n",
       "      <th>70</th>\n",
       "      <td>Stocks That Hit 52-Week Highs On Friday</td>\n",
       "      <td>stocks hit week highs friday</td>\n",
       "      <td>0.0</td>\n",
       "    </tr>\n",
       "    <tr>\n",
       "      <th>71</th>\n",
       "      <td>Stocks That Hit 52-Week Highs On Monday</td>\n",
       "      <td>stocks hit week highs monday</td>\n",
       "      <td>0.0</td>\n",
       "    </tr>\n",
       "    <tr>\n",
       "      <th>72</th>\n",
       "      <td>Stocks That Hit 52-Week Highs On Friday</td>\n",
       "      <td>stocks hit week highs friday</td>\n",
       "      <td>0.0</td>\n",
       "    </tr>\n",
       "    <tr>\n",
       "      <th>73</th>\n",
       "      <td>Stocks That Hit 52-Week Highs On Thursday</td>\n",
       "      <td>stocks hit week highs thursday</td>\n",
       "      <td>0.0</td>\n",
       "    </tr>\n",
       "    <tr>\n",
       "      <th>74</th>\n",
       "      <td>There's A New Trading Tool That Allows Traders...</td>\n",
       "      <td>theres new trading tool allows traders trade c...</td>\n",
       "      <td>0.0</td>\n",
       "    </tr>\n",
       "  </tbody>\n",
       "</table>\n",
       "</div>"
      ],
      "text/plain": [
       "                                        Article_title  \\\n",
       "70            Stocks That Hit 52-Week Highs On Friday   \n",
       "71            Stocks That Hit 52-Week Highs On Monday   \n",
       "72            Stocks That Hit 52-Week Highs On Friday   \n",
       "73          Stocks That Hit 52-Week Highs On Thursday   \n",
       "74  There's A New Trading Tool That Allows Traders...   \n",
       "\n",
       "                                        Cleaned_Title  Sentiment  \n",
       "70                       stocks hit week highs friday        0.0  \n",
       "71                       stocks hit week highs monday        0.0  \n",
       "72                       stocks hit week highs friday        0.0  \n",
       "73                     stocks hit week highs thursday        0.0  \n",
       "74  theres new trading tool allows traders trade c...        0.0  "
      ]
     },
     "execution_count": 35,
     "metadata": {},
     "output_type": "execute_result"
    }
   ],
   "source": [
    "news_data_reduced[['Article_title', 'Cleaned_Title', 'Sentiment']].head()"
   ]
  },
  {
   "cell_type": "code",
   "execution_count": 36,
   "metadata": {},
   "outputs": [
    {
     "name": "stdout",
     "output_type": "stream",
     "text": [
      "Graph saved as sentiment_distribution.png\n"
     ]
    },
    {
     "data": {
      "image/png": "[encoded data removed]",
      "text/plain": [
       "<Figure size 1000x600 with 1 Axes>"
      ]
     },
     "metadata": {},
     "output_type": "display_data"
    }
   ],
   "source": [
    "# import os\n",
    "# os.environ['MPLBACKEND'] = 'Agg'\n",
    "import matplotlib.pyplot as plt\n",
    "\n",
    "# Forza un backend sicuro direttamente dalle variabili d'ambiente se hai accesso a eseguire bash:\n",
    "\n",
    "# Visualizzare la distribuzione del sentiment\n",
    "plt.figure(figsize=(10, 6))\n",
    "plt.hist(news_data_reduced['Sentiment'], bins=50, edgecolor='k')\n",
    "plt.title('Distribution of Sentiment Scores')\n",
    "plt.xlabel('Sentiment Score')\n",
    "plt.ylabel('Frequency')\n",
    "\n",
    "print(\"Graph saved as sentiment_distribution.png\")"
   ]
  },
  {
   "cell_type": "code",
   "execution_count": 39,
   "metadata": {},
   "outputs": [
    {
     "name": "stdout",
     "output_type": "stream",
     "text": [
      "Titoli con sentiment molto positivo:\n",
      "                                         Article_title  Sentiment\n",
      "94   Shares of several healthcare companies are tra...     0.7351\n",
      "96   Shares of several healthcare companies are tra...     0.6124\n",
      "98   Shares of several healthcare companies are tra...     0.7650\n",
      "111  Shares of diagnostics and research companies a...     0.7906\n",
      "113  Agilent Announces Settlement of Key Intellectu...     0.5106\n",
      "\n",
      "Titoli con sentiment molto negativo:\n"
     ]
    },
    {
     "data": {
      "text/html": [
       "<div>\n",
       "<style scoped>\n",
       "    .dataframe tbody tr th:only-of-type {\n",
       "        vertical-align: middle;\n",
       "    }\n",
       "\n",
       "    .dataframe tbody tr th {\n",
       "        vertical-align: top;\n",
       "    }\n",
       "\n",
       "    .dataframe thead th {\n",
       "        text-align: right;\n",
       "    }\n",
       "</style>\n",
       "<table border=\"1\" class=\"dataframe\">\n",
       "  <thead>\n",
       "    <tr style=\"text-align: right;\">\n",
       "      <th></th>\n",
       "      <th>Article_title</th>\n",
       "      <th>Sentiment</th>\n",
       "    </tr>\n",
       "  </thead>\n",
       "  <tbody>\n",
       "    <tr>\n",
       "      <th>97</th>\n",
       "      <td>Shares of several healthcare companies are tra...</td>\n",
       "      <td>-0.8126</td>\n",
       "    </tr>\n",
       "    <tr>\n",
       "      <th>112</th>\n",
       "      <td>Shares of several gold companies are trading h...</td>\n",
       "      <td>-0.5719</td>\n",
       "    </tr>\n",
       "    <tr>\n",
       "      <th>228</th>\n",
       "      <td>Aquinox Pharmaceuticals Announces FDA Panel Vo...</td>\n",
       "      <td>-0.5106</td>\n",
       "    </tr>\n",
       "    <tr>\n",
       "      <th>264</th>\n",
       "      <td>Agilent Reports Deal with Agendia for Molecula...</td>\n",
       "      <td>-0.6597</td>\n",
       "    </tr>\n",
       "    <tr>\n",
       "      <th>342</th>\n",
       "      <td>Agilent Subsidiary Dako Reports Commercial Ava...</td>\n",
       "      <td>-0.6597</td>\n",
       "    </tr>\n",
       "  </tbody>\n",
       "</table>\n",
       "</div>"
      ],
      "text/plain": [
       "                                         Article_title  Sentiment\n",
       "97   Shares of several healthcare companies are tra...    -0.8126\n",
       "112  Shares of several gold companies are trading h...    -0.5719\n",
       "228  Aquinox Pharmaceuticals Announces FDA Panel Vo...    -0.5106\n",
       "264  Agilent Reports Deal with Agendia for Molecula...    -0.6597\n",
       "342  Agilent Subsidiary Dako Reports Commercial Ava...    -0.6597"
      ]
     },
     "execution_count": 39,
     "metadata": {},
     "output_type": "execute_result"
    }
   ],
   "source": [
    "# Estrazione di titoli con sentiment molto positivo (> 0.5) o molto negativo (< -0.5)\n",
    "extreme_positive = news_data_reduced[news_data_reduced['Sentiment'] > 0.5]\n",
    "extreme_negative = news_data_reduced[news_data_reduced['Sentiment'] < -0.5]\n",
    "\n",
    "# Visualizza i primi 5 titoli con sentiment positivo e negativo estremi\n",
    "print(\"Titoli con sentiment molto positivo:\")\n",
    "print(extreme_positive[['Article_title', 'Sentiment']].head())\n",
    "\n",
    "print(\"\\nTitoli con sentiment molto negativo:\")\n",
    "extreme_negative[['Article_title', 'Sentiment']].head()"
   ]
  },
  {
   "cell_type": "code",
   "execution_count": 40,
   "metadata": {},
   "outputs": [
    {
     "data": {
      "text/html": [
       "<div>\n",
       "<style scoped>\n",
       "    .dataframe tbody tr th:only-of-type {\n",
       "        vertical-align: middle;\n",
       "    }\n",
       "\n",
       "    .dataframe tbody tr th {\n",
       "        vertical-align: top;\n",
       "    }\n",
       "\n",
       "    .dataframe thead th {\n",
       "        text-align: right;\n",
       "    }\n",
       "</style>\n",
       "<table border=\"1\" class=\"dataframe\">\n",
       "  <thead>\n",
       "    <tr style=\"text-align: right;\">\n",
       "      <th></th>\n",
       "      <th>Article_title</th>\n",
       "      <th>Sentiment</th>\n",
       "    </tr>\n",
       "  </thead>\n",
       "  <tbody>\n",
       "    <tr>\n",
       "      <th>1317068</th>\n",
       "      <td>5 Manufacturing Stocks With 25% Upside Potential</td>\n",
       "      <td>0.0</td>\n",
       "    </tr>\n",
       "    <tr>\n",
       "      <th>3313173</th>\n",
       "      <td>ArcelorMittal to Invest $1 Billion at Mexican ...</td>\n",
       "      <td>0.0</td>\n",
       "    </tr>\n",
       "    <tr>\n",
       "      <th>1251528</th>\n",
       "      <td>TrustCo Bank Reports Q1 EPS $0.11</td>\n",
       "      <td>0.0</td>\n",
       "    </tr>\n",
       "    <tr>\n",
       "      <th>2674504</th>\n",
       "      <td>Diana Shipping announces new time charter cont...</td>\n",
       "      <td>0.0</td>\n",
       "    </tr>\n",
       "    <tr>\n",
       "      <th>2616423</th>\n",
       "      <td>Corning has more Upside to Offer and Here's Why</td>\n",
       "      <td>0.0</td>\n",
       "    </tr>\n",
       "    <tr>\n",
       "      <th>3896848</th>\n",
       "      <td>The Ultratech Two-Step Continues</td>\n",
       "      <td>0.0</td>\n",
       "    </tr>\n",
       "    <tr>\n",
       "      <th>2971388</th>\n",
       "      <td>The Home Depot, Inc. (HD) CEO Craig Menear on ...</td>\n",
       "      <td>0.0</td>\n",
       "    </tr>\n",
       "    <tr>\n",
       "      <th>2312381</th>\n",
       "      <td>Add These 4 Low P/CF Stocks to Create a Value-...</td>\n",
       "      <td>0.0</td>\n",
       "    </tr>\n",
       "    <tr>\n",
       "      <th>3862539</th>\n",
       "      <td>HBO sets 'Game of Thrones' premiere for April 24</td>\n",
       "      <td>0.0</td>\n",
       "    </tr>\n",
       "    <tr>\n",
       "      <th>3685301</th>\n",
       "      <td>The Vetr community has upgraded $SKX to 4.5-St...</td>\n",
       "      <td>0.0</td>\n",
       "    </tr>\n",
       "  </tbody>\n",
       "</table>\n",
       "</div>"
      ],
      "text/plain": [
       "                                             Article_title  Sentiment\n",
       "1317068   5 Manufacturing Stocks With 25% Upside Potential        0.0\n",
       "3313173  ArcelorMittal to Invest $1 Billion at Mexican ...        0.0\n",
       "1251528                  TrustCo Bank Reports Q1 EPS $0.11        0.0\n",
       "2674504  Diana Shipping announces new time charter cont...        0.0\n",
       "2616423    Corning has more Upside to Offer and Here's Why        0.0\n",
       "3896848                   The Ultratech Two-Step Continues        0.0\n",
       "2971388  The Home Depot, Inc. (HD) CEO Craig Menear on ...        0.0\n",
       "2312381  Add These 4 Low P/CF Stocks to Create a Value-...        0.0\n",
       "3862539   HBO sets 'Game of Thrones' premiere for April 24        0.0\n",
       "3685301  The Vetr community has upgraded $SKX to 4.5-St...        0.0"
      ]
     },
     "execution_count": 40,
     "metadata": {},
     "output_type": "execute_result"
    }
   ],
   "source": [
    "# Estrai un campione casuale di titoli con sentiment neutro (0)\n",
    "neutral_titles_sample = news_data_reduced[news_data_reduced['Sentiment'] == 0].sample(10)\n",
    "\n",
    "# Mostra il campione di titoli neutrali\n",
    "neutral_titles_sample[['Article_title', 'Sentiment']]"
   ]
  },
  {
   "cell_type": "markdown",
   "metadata": {},
   "source": [
    "__"
   ]
  },
  {
   "cell_type": "code",
   "execution_count": 72,
   "metadata": {},
   "outputs": [],
   "source": [
    "financial_data = pd.read_csv('sp500_historical_prices.csv')"
   ]
  },
  {
   "cell_type": "code",
   "execution_count": 73,
   "metadata": {},
   "outputs": [
    {
     "data": {
      "text/html": [
       "<div>\n",
       "<style scoped>\n",
       "    .dataframe tbody tr th:only-of-type {\n",
       "        vertical-align: middle;\n",
       "    }\n",
       "\n",
       "    .dataframe tbody tr th {\n",
       "        vertical-align: top;\n",
       "    }\n",
       "\n",
       "    .dataframe thead th {\n",
       "        text-align: right;\n",
       "    }\n",
       "</style>\n",
       "<table border=\"1\" class=\"dataframe\">\n",
       "  <thead>\n",
       "    <tr style=\"text-align: right;\">\n",
       "      <th></th>\n",
       "      <th>DATE</th>\n",
       "      <th>TRDPRC_1</th>\n",
       "      <th>HIGH_1</th>\n",
       "      <th>LOW_1</th>\n",
       "      <th>OPEN_PRC</th>\n",
       "      <th>BID</th>\n",
       "      <th>ASK</th>\n",
       "      <th>TRNOVR_UNS</th>\n",
       "      <th>NUM_MOVES</th>\n",
       "      <th>RIC</th>\n",
       "    </tr>\n",
       "  </thead>\n",
       "  <tbody>\n",
       "    <tr>\n",
       "      <th>0</th>\n",
       "      <td>2022-12-30</td>\n",
       "      <td>71.94</td>\n",
       "      <td>72.15</td>\n",
       "      <td>71.50</td>\n",
       "      <td>71.66</td>\n",
       "      <td>71.94</td>\n",
       "      <td>71.95</td>\n",
       "      <td>39211033.0</td>\n",
       "      <td>2667.0</td>\n",
       "      <td>AFL.N</td>\n",
       "    </tr>\n",
       "    <tr>\n",
       "      <th>1</th>\n",
       "      <td>2022-12-29</td>\n",
       "      <td>72.08</td>\n",
       "      <td>72.38</td>\n",
       "      <td>71.62</td>\n",
       "      <td>71.77</td>\n",
       "      <td>72.09</td>\n",
       "      <td>72.10</td>\n",
       "      <td>37359210.0</td>\n",
       "      <td>2814.0</td>\n",
       "      <td>AFL.N</td>\n",
       "    </tr>\n",
       "    <tr>\n",
       "      <th>2</th>\n",
       "      <td>2022-12-28</td>\n",
       "      <td>71.47</td>\n",
       "      <td>72.50</td>\n",
       "      <td>71.46</td>\n",
       "      <td>72.50</td>\n",
       "      <td>71.46</td>\n",
       "      <td>71.48</td>\n",
       "      <td>37532980.0</td>\n",
       "      <td>2835.0</td>\n",
       "      <td>AFL.N</td>\n",
       "    </tr>\n",
       "    <tr>\n",
       "      <th>3</th>\n",
       "      <td>2022-12-27</td>\n",
       "      <td>72.24</td>\n",
       "      <td>72.61</td>\n",
       "      <td>71.92</td>\n",
       "      <td>72.00</td>\n",
       "      <td>72.24</td>\n",
       "      <td>72.26</td>\n",
       "      <td>39323197.0</td>\n",
       "      <td>2917.0</td>\n",
       "      <td>AFL.N</td>\n",
       "    </tr>\n",
       "    <tr>\n",
       "      <th>4</th>\n",
       "      <td>2022-12-23</td>\n",
       "      <td>71.75</td>\n",
       "      <td>71.81</td>\n",
       "      <td>70.91</td>\n",
       "      <td>70.91</td>\n",
       "      <td>71.76</td>\n",
       "      <td>71.78</td>\n",
       "      <td>34382305.0</td>\n",
       "      <td>2413.0</td>\n",
       "      <td>AFL.N</td>\n",
       "    </tr>\n",
       "  </tbody>\n",
       "</table>\n",
       "</div>"
      ],
      "text/plain": [
       "         DATE  TRDPRC_1  HIGH_1  LOW_1  OPEN_PRC    BID    ASK  TRNOVR_UNS  \\\n",
       "0  2022-12-30     71.94   72.15  71.50     71.66  71.94  71.95  39211033.0   \n",
       "1  2022-12-29     72.08   72.38  71.62     71.77  72.09  72.10  37359210.0   \n",
       "2  2022-12-28     71.47   72.50  71.46     72.50  71.46  71.48  37532980.0   \n",
       "3  2022-12-27     72.24   72.61  71.92     72.00  72.24  72.26  39323197.0   \n",
       "4  2022-12-23     71.75   71.81  70.91     70.91  71.76  71.78  34382305.0   \n",
       "\n",
       "   NUM_MOVES    RIC  \n",
       "0     2667.0  AFL.N  \n",
       "1     2814.0  AFL.N  \n",
       "2     2835.0  AFL.N  \n",
       "3     2917.0  AFL.N  \n",
       "4     2413.0  AFL.N  "
      ]
     },
     "execution_count": 73,
     "metadata": {},
     "output_type": "execute_result"
    }
   ],
   "source": [
    "financial_data.head()"
   ]
  },
  {
   "cell_type": "code",
   "execution_count": 75,
   "metadata": {},
   "outputs": [
    {
     "name": "stdout",
     "output_type": "stream",
     "text": [
      "Dimensions of the dataset: (1212200, 10)\n",
      "Data types for each column:\n",
      " DATE           object\n",
      "TRDPRC_1      float64\n",
      "HIGH_1        float64\n",
      "LOW_1         float64\n",
      "OPEN_PRC      float64\n",
      "BID           float64\n",
      "ASK           float64\n",
      "TRNOVR_UNS    float64\n",
      "NUM_MOVES     float64\n",
      "RIC            object\n",
      "dtype: object\n"
     ]
    }
   ],
   "source": [
    "print(\"Dimensions of the dataset:\", financial_data.shape)\n",
    "print(\"Data types for each column:\\n\", financial_data.dtypes)"
   ]
  },
  {
   "cell_type": "code",
   "execution_count": 76,
   "metadata": {},
   "outputs": [],
   "source": [
    "financial_data['DATE'] = pd.to_datetime(financial_data['DATE'])"
   ]
  },
  {
   "cell_type": "code",
   "execution_count": 77,
   "metadata": {},
   "outputs": [],
   "source": [
    "financial_data = financial_data.sort_values(by=['RIC', 'DATE'])"
   ]
  },
  {
   "cell_type": "code",
   "execution_count": 86,
   "metadata": {},
   "outputs": [
    {
     "name": "stderr",
     "output_type": "stream",
     "text": [
      "/var/folders/zt/nyys066105lblq7tgvfcr7bw0000gq/T/ipykernel_68385/3069139386.py:1: FutureWarning: The default fill_method='ffill' in SeriesGroupBy.pct_change is deprecated and will be removed in a future version. Either fill in any non-leading NA values prior to calling pct_change or specify 'fill_method=None' to not fill NA values.\n",
      "  financial_data['Return'] = financial_data.groupby('RIC')['TRDPRC_1'].pct_change()\n"
     ]
    }
   ],
   "source": [
    "financial_data['Return'] = financial_data.groupby('RIC')['TRDPRC_1'].pct_change()\n",
    "# financial_data['Return'] = financial_data.groupby('RIC')['TRDPRC_1'].diff()"
   ]
  },
  {
   "cell_type": "code",
   "execution_count": 87,
   "metadata": {},
   "outputs": [
    {
     "data": {
      "text/html": [
       "<div>\n",
       "<style scoped>\n",
       "    .dataframe tbody tr th:only-of-type {\n",
       "        vertical-align: middle;\n",
       "    }\n",
       "\n",
       "    .dataframe tbody tr th {\n",
       "        vertical-align: top;\n",
       "    }\n",
       "\n",
       "    .dataframe thead th {\n",
       "        text-align: right;\n",
       "    }\n",
       "</style>\n",
       "<table border=\"1\" class=\"dataframe\">\n",
       "  <thead>\n",
       "    <tr style=\"text-align: right;\">\n",
       "      <th></th>\n",
       "      <th>DATE</th>\n",
       "      <th>TRDPRC_1</th>\n",
       "      <th>HIGH_1</th>\n",
       "      <th>LOW_1</th>\n",
       "      <th>OPEN_PRC</th>\n",
       "      <th>BID</th>\n",
       "      <th>ASK</th>\n",
       "      <th>TRNOVR_UNS</th>\n",
       "      <th>NUM_MOVES</th>\n",
       "      <th>RIC</th>\n",
       "      <th>Return</th>\n",
       "    </tr>\n",
       "  </thead>\n",
       "  <tbody>\n",
       "    <tr>\n",
       "      <th>858637</th>\n",
       "      <td>2013-01-02</td>\n",
       "      <td>29.947844</td>\n",
       "      <td>29.997900</td>\n",
       "      <td>29.425830</td>\n",
       "      <td>29.947844</td>\n",
       "      <td>29.940693</td>\n",
       "      <td>29.947844</td>\n",
       "      <td>NaN</td>\n",
       "      <td>4048.0</td>\n",
       "      <td>A.N</td>\n",
       "      <td>NaN</td>\n",
       "    </tr>\n",
       "    <tr>\n",
       "      <th>858636</th>\n",
       "      <td>2013-01-03</td>\n",
       "      <td>30.055107</td>\n",
       "      <td>30.133766</td>\n",
       "      <td>29.740468</td>\n",
       "      <td>29.990749</td>\n",
       "      <td>30.047956</td>\n",
       "      <td>30.055107</td>\n",
       "      <td>NaN</td>\n",
       "      <td>2661.0</td>\n",
       "      <td>A.N</td>\n",
       "      <td>0.003582</td>\n",
       "    </tr>\n",
       "    <tr>\n",
       "      <th>858635</th>\n",
       "      <td>2013-01-04</td>\n",
       "      <td>30.648629</td>\n",
       "      <td>30.705836</td>\n",
       "      <td>29.940693</td>\n",
       "      <td>30.133766</td>\n",
       "      <td>30.641478</td>\n",
       "      <td>30.648629</td>\n",
       "      <td>NaN</td>\n",
       "      <td>2802.0</td>\n",
       "      <td>A.N</td>\n",
       "      <td>0.019748</td>\n",
       "    </tr>\n",
       "    <tr>\n",
       "      <th>858634</th>\n",
       "      <td>2013-01-07</td>\n",
       "      <td>30.426952</td>\n",
       "      <td>30.598573</td>\n",
       "      <td>30.312538</td>\n",
       "      <td>30.462706</td>\n",
       "      <td>30.426952</td>\n",
       "      <td>30.434103</td>\n",
       "      <td>NaN</td>\n",
       "      <td>1491.0</td>\n",
       "      <td>A.N</td>\n",
       "      <td>-0.007233</td>\n",
       "    </tr>\n",
       "    <tr>\n",
       "      <th>858633</th>\n",
       "      <td>2013-01-08</td>\n",
       "      <td>30.183822</td>\n",
       "      <td>30.591422</td>\n",
       "      <td>30.112314</td>\n",
       "      <td>30.369745</td>\n",
       "      <td>30.190973</td>\n",
       "      <td>30.198124</td>\n",
       "      <td>NaN</td>\n",
       "      <td>1650.0</td>\n",
       "      <td>A.N</td>\n",
       "      <td>-0.007991</td>\n",
       "    </tr>\n",
       "  </tbody>\n",
       "</table>\n",
       "</div>"
      ],
      "text/plain": [
       "             DATE   TRDPRC_1     HIGH_1      LOW_1   OPEN_PRC        BID  \\\n",
       "858637 2013-01-02  29.947844  29.997900  29.425830  29.947844  29.940693   \n",
       "858636 2013-01-03  30.055107  30.133766  29.740468  29.990749  30.047956   \n",
       "858635 2013-01-04  30.648629  30.705836  29.940693  30.133766  30.641478   \n",
       "858634 2013-01-07  30.426952  30.598573  30.312538  30.462706  30.426952   \n",
       "858633 2013-01-08  30.183822  30.591422  30.112314  30.369745  30.190973   \n",
       "\n",
       "              ASK  TRNOVR_UNS  NUM_MOVES  RIC    Return  \n",
       "858637  29.947844         NaN     4048.0  A.N       NaN  \n",
       "858636  30.055107         NaN     2661.0  A.N  0.003582  \n",
       "858635  30.648629         NaN     2802.0  A.N  0.019748  \n",
       "858634  30.434103         NaN     1491.0  A.N -0.007233  \n",
       "858633  30.198124         NaN     1650.0  A.N -0.007991  "
      ]
     },
     "execution_count": 87,
     "metadata": {},
     "output_type": "execute_result"
    }
   ],
   "source": [
    "financial_data.head()"
   ]
  },
  {
   "cell_type": "code",
   "execution_count": 88,
   "metadata": {},
   "outputs": [
    {
     "data": {
      "image/png": "[encoded data removed]",
      "text/plain": [
       "<Figure size 1000x600 with 1 Axes>"
      ]
     },
     "metadata": {},
     "output_type": "display_data"
    }
   ],
   "source": [
    "company_data = financial_data[financial_data['RIC'] == 'AFL.N']\n",
    "plt.figure(figsize=(10, 6))\n",
    "plt.plot(company_data['DATE'], company_data['TRDPRC_1'], label='AFL.N')\n",
    "plt.title('Precio de Cierre - AFL.N')\n",
    "plt.xlabel('Fecha')\n",
    "plt.ylabel('Precio de Cierre')\n",
    "plt.legend()\n",
    "plt.show()"
   ]
  },
  {
   "cell_type": "code",
   "execution_count": 89,
   "metadata": {},
   "outputs": [
    {
     "data": {
      "image/png": "[encoded data removed]",
      "text/plain": [
       "<Figure size 1000x600 with 1 Axes>"
      ]
     },
     "metadata": {},
     "output_type": "display_data"
    }
   ],
   "source": [
    "plt.figure(figsize=(10, 6))\n",
    "plt.hist(financial_data['Return'].dropna(), bins=100, edgecolor='k')\n",
    "plt.title('Distribución de Retornos Diarios')\n",
    "plt.xlabel('Retorno Diario')\n",
    "plt.ylabel('Frecuencia')\n",
    "plt.show()"
   ]
  },
  {
   "cell_type": "code",
   "execution_count": null,
   "metadata": {},
   "outputs": [],
   "source": []
  }
 ],
 "metadata": {
  "kernelspec": {
   "display_name": "venv",
   "language": "python",
   "name": "python3"
  },
  "language_info": {
   "codemirror_mode": {
    "name": "ipython",
    "version": 3
   },
   "file_extension": ".py",
   "mimetype": "text/x-python",
   "name": "python",
   "nbconvert_exporter": "python",
   "pygments_lexer": "ipython3",
   "version": "3.12.5"
  }
 },
 "nbformat": 4,
 "nbformat_minor": 2
}
